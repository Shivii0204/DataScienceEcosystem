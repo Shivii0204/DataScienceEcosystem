{
 "cells": [
  {
   "cell_type": "markdown",
   "id": "b70e4c00-0832-4cdf-93d1-625a297b9363",
   "metadata": {},
   "source": [
    "# Data Science Tools and Ecosystem"
   ]
  },
  {
   "cell_type": "markdown",
   "id": "bc313cde-bfb9-460b-8d8b-6d1ebd4d430d",
   "metadata": {},
   "source": [
    "# In this notebook, Data Science Tools and Ecosystem are summarized."
   ]
  },
  {
   "cell_type": "markdown",
   "id": "acdd2412-497b-43f3-879a-e046ef74ddc0",
   "metadata": {},
   "source": [
    "**Objectives:**\n",
    "\n",
    "- List popular languages for Data Science\n",
    "- Introduce key Data Science tools\n",
    "- Demonstrate basic arithmetic operations in Python\n",
    "- Convert units of time (e.g., minutes to hours)\n",
    "- Understand Markdown formatting in Jupyter Notebooks\n"
   ]
  },
  {
   "cell_type": "markdown",
   "id": "0a0b01a0-96fc-4f6b-b37c-146e4724d948",
   "metadata": {},
   "source": [
    "# Some of the popular languages that Data Scientists use are:\n",
    "1. Python\n",
    "2. R\n",
    "3. SQL\n"
   ]
  },
  {
   "cell_type": "markdown",
   "id": "3f781817-9e08-46e6-aa9d-a41b36fa9c65",
   "metadata": {},
   "source": [
    "# Some of the commonly used libraries used by Data Scientists include:\n",
    "1. Pandas\n",
    "2. NumPy\n",
    "3. Matplotlib\n"
   ]
  },
  {
   "cell_type": "markdown",
   "id": "ed00caba-a0fc-4b00-910a-40ce2757479b",
   "metadata": {},
   "source": [
    "| Data Science Tools |\n",
    "|--------------------|\n",
    "| Jupyter Notebook   |\n",
    "| RStudio            |\n",
    "| VS Code            |\n"
   ]
  },
  {
   "cell_type": "markdown",
   "id": "6e597952-9af7-460c-8a16-5866c376ab90",
   "metadata": {
    "tags": []
   },
   "source": [
    "### Below are a few examples of evaluating arithmetic expressions in Python.\n"
   ]
  },
  {
   "cell_type": "code",
   "execution_count": 8,
   "id": "c17d7ba3-7754-4bd2-ac52-ffbb6ee55122",
   "metadata": {
    "tags": []
   },
   "outputs": [
    {
     "data": {
      "text/plain": [
       "17"
      ]
     },
     "execution_count": 8,
     "metadata": {},
     "output_type": "execute_result"
    }
   ],
   "source": [
    "# This is a simple arithmetic expression to multiply then add integers.\n",
    "\n",
    "(3*4)+5"
   ]
  },
  {
   "cell_type": "code",
   "execution_count": 12,
   "id": "f964b8fb-9e7b-4d97-9acd-6967fb3b4fdb",
   "metadata": {
    "tags": []
   },
   "outputs": [
    {
     "name": "stdout",
     "output_type": "stream",
     "text": [
      "3.3333333333333335\n"
     ]
    }
   ],
   "source": [
    "# This will convert 200 minutes to hours by dividing by 60.\n",
    "minutes = 200\n",
    "hours = minutes / 60\n",
    "print(hours)\n"
   ]
  },
  {
   "cell_type": "markdown",
   "id": "df8ffa3a-5959-4f78-8f8a-2ec1733798fe",
   "metadata": {},
   "source": [
    "## Author\n",
    "Shivani Pillai\n"
   ]
  },
  {
   "cell_type": "code",
   "execution_count": null,
   "id": "9a6a8b69-b431-4b93-9a8d-89d59505a7a1",
   "metadata": {},
   "outputs": [],
   "source": []
  }
 ],
 "metadata": {
  "kernelspec": {
   "display_name": "Python",
   "language": "python",
   "name": "conda-env-python-py"
  },
  "language_info": {
   "codemirror_mode": {
    "name": "ipython",
    "version": 3
   },
   "file_extension": ".py",
   "mimetype": "text/x-python",
   "name": "python",
   "nbconvert_exporter": "python",
   "pygments_lexer": "ipython3",
   "version": "3.7.12"
  }
 },
 "nbformat": 4,
 "nbformat_minor": 5
}
